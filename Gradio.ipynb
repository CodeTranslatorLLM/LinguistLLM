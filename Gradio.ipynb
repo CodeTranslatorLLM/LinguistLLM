{
 "cells": [
  {
   "cell_type": "code",
   "execution_count": 17,
   "metadata": {},
   "outputs": [
    {
     "name": "stdout",
     "output_type": "stream",
     "text": [
      "* Running on local URL:  http://127.0.0.1:7861\n",
      "\n",
      "To create a public link, set `share=True` in `launch()`.\n"
     ]
    },
    {
     "data": {
      "text/html": [
       "<div><iframe src=\"http://127.0.0.1:7861/\" width=\"100%\" height=\"500\" allow=\"autoplay; camera; microphone; clipboard-read; clipboard-write;\" frameborder=\"0\" allowfullscreen></iframe></div>"
      ],
      "text/plain": [
       "<IPython.core.display.HTML object>"
      ]
     },
     "metadata": {},
     "output_type": "display_data"
    },
    {
     "data": {
      "text/plain": []
     },
     "execution_count": 17,
     "metadata": {},
     "output_type": "execute_result"
    }
   ],
   "source": [
    "import gradio as gr\n",
    "import re\n",
    "import inference\n",
    "\n",
    "def translate_fortran_to_rust(fortran_code, fortran_explanation):\n",
    "    \"\"\"Translate Fortran code to Rust using provided Model.\"\"\"\n",
    "\n",
    "    # rust_code = inference.main(fortran_code, fortran_explanation, \"lora_model\")\n",
    "    \n",
    "    # # Add Rust-specific boilerplate\n",
    "    # rust_code = f\"\"\"// Translated from Fortran to Rust:\n",
    "    # // {rust_code}\n",
    "    # \"\"\"\n",
    "\n",
    "    rust_code = inference.testing(fortran_code)\n",
    "    return rust_code\n",
    "\n",
    "def create_translation_interface():\n",
    "    \"\"\"Create the Gradio interface for the translation system.\"\"\"\n",
    "\n",
    "    default_codes = \"program sum_of_numbers\\n    implicit none\\n    integer :: n, i, sum\\n\\n    ! Initialize variables\\n    sum = 0\\n\\n    ! Get user input\\n    print *, \\\"Enter a positive integer:\\\"\\n    read *, n\\n\\n    ! Calculate the sum of numbers from 1 to n\\n    do i = 1, n\\n        sum = sum + i\\n    end do\\n\\n    ! Print the result\\n    print *, \\\"The sum of numbers from 1 to\\\", n, \\\"is\\\", sum\\nend program sum_of_numbers\"\n",
    "    # Default translation rules\n",
    "    default_explanation = \"The provided Fortran code snippet is a program that calculates the sum of integers from 1 to n, where n is provided by the user. It uses a simple procedural approach, including variable declarations, input handling, and a loop for the summation.\\n\\nThe functionality of the program is explained in detail in the elaboration. The program starts by initializing variables and prompting the user for input. It then calculates the sum using a do loop, iterating from 1 to n, and accumulating the result in a variable. Finally, it prints the computed sum to the console.\\n\\nThis program demonstrates a straightforward application of Fortran's capabilities for handling loops and basic arithmetic operations. It is a clear example of how Fortran can be used to solve mathematical problems involving user interaction and iterative computations.\"\n",
    "\n",
    "    # Create the interface\n",
    "    iface = gr.Interface(\n",
    "        fn=translate_fortran_to_rust,\n",
    "        inputs=[\n",
    "            gr.Textbox(\n",
    "                lines=10,\n",
    "                value=default_codes,\n",
    "                placeholder=\"Enter Fortran code here...\",\n",
    "                label=\"Fortran Code\"\n",
    "            ),\n",
    "            gr.Textbox(\n",
    "                lines=10,\n",
    "                value=default_explanation,\n",
    "                placeholder=\"Enter translation explanation here...\",\n",
    "                label=\"Fortran Code Explanation\"\n",
    "            )\n",
    "        ],\n",
    "        outputs=gr.Textbox(\n",
    "            lines=10,\n",
    "            label=\"Rust Code\"\n",
    "        ),\n",
    "\n",
    "\n",
    "        title=\"Fortran to Rust Code Translator\",\n",
    "        description=\"\"\"\n",
    "        This tool translates Fortran code to Rust using language model.\n",
    "        \n",
    "        How to use:\n",
    "        1. Enter your Fortran code in the first text box\n",
    "        2. Add an explanation of the code in the second text box\n",
    "        3. The translated Rust code will appear in the output box\n",
    "        \n",
    "        Note: The default model is a Llama-3.2-3B-Instruct\n",
    "        \"\"\",\n",
    "        examples=[\n",
    "            [\n",
    "                default_codes,\n",
    "                default_explanation\n",
    "            ]\n",
    "        ]\n",
    "    )\n",
    "    return iface\n",
    "\n",
    "# Create and launch the interface\n",
    "interface = create_translation_interface()\n",
    "interface.launch()"
   ]
  }
 ],
 "metadata": {
  "kernelspec": {
   "display_name": ".venv",
   "language": "python",
   "name": "python3"
  },
  "language_info": {
   "codemirror_mode": {
    "name": "ipython",
    "version": 3
   },
   "file_extension": ".py",
   "mimetype": "text/x-python",
   "name": "python",
   "nbconvert_exporter": "python",
   "pygments_lexer": "ipython3",
   "version": "3.10.4"
  }
 },
 "nbformat": 4,
 "nbformat_minor": 2
}
